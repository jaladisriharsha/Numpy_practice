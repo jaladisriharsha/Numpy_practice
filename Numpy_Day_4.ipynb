{
 "cells": [
  {
   "cell_type": "code",
   "execution_count": null,
   "id": "incorporated-landscape",
   "metadata": {},
   "outputs": [],
   "source": []
  },
  {
   "cell_type": "code",
   "execution_count": 5,
   "id": "blessed-economics",
   "metadata": {},
   "outputs": [],
   "source": [
    "import numpy as np\n",
    "xarr=np.array([1,2,3,4,5,6])\n",
    "yarr=np.array([7,8,9,10,11,12])"
   ]
  },
  {
   "cell_type": "code",
   "execution_count": 6,
   "id": "efficient-board",
   "metadata": {},
   "outputs": [],
   "source": [
    "cond=np.array([True,False,True,True,False,True])"
   ]
  },
  {
   "cell_type": "code",
   "execution_count": 13,
   "id": "yellow-canada",
   "metadata": {},
   "outputs": [],
   "source": [
    "result=np.where(cond,xarr,yarr)"
   ]
  },
  {
   "cell_type": "code",
   "execution_count": 14,
   "id": "essential-skill",
   "metadata": {},
   "outputs": [
    {
     "data": {
      "text/plain": [
       "array([ 1,  8,  3,  4, 11,  6])"
      ]
     },
     "execution_count": 14,
     "metadata": {},
     "output_type": "execute_result"
    }
   ],
   "source": [
    "result"
   ]
  },
  {
   "cell_type": "code",
   "execution_count": 15,
   "id": "disabled-employer",
   "metadata": {},
   "outputs": [],
   "source": [
    "arr=np.random.randn(4,4)"
   ]
  },
  {
   "cell_type": "code",
   "execution_count": 18,
   "id": "pacific-jungle",
   "metadata": {},
   "outputs": [
    {
     "data": {
      "text/plain": [
       "array([[ True, False,  True, False],\n",
       "       [False, False, False,  True],\n",
       "       [ True, False,  True,  True],\n",
       "       [False, False, False,  True]])"
      ]
     },
     "execution_count": 18,
     "metadata": {},
     "output_type": "execute_result"
    }
   ],
   "source": [
    "cond=arr>0\n",
    "cond"
   ]
  },
  {
   "cell_type": "code",
   "execution_count": 20,
   "id": "wireless-chinese",
   "metadata": {},
   "outputs": [],
   "source": [
    "result=np.where(cond,2,-2)"
   ]
  },
  {
   "cell_type": "code",
   "execution_count": 21,
   "id": "north-airfare",
   "metadata": {},
   "outputs": [
    {
     "data": {
      "text/plain": [
       "array([[ 2, -2,  2, -2],\n",
       "       [-2, -2, -2,  2],\n",
       "       [ 2, -2,  2,  2],\n",
       "       [-2, -2, -2,  2]])"
      ]
     },
     "execution_count": 21,
     "metadata": {},
     "output_type": "execute_result"
    }
   ],
   "source": [
    "result"
   ]
  },
  {
   "cell_type": "markdown",
   "id": "based-staff",
   "metadata": {},
   "source": [
    "|"
   ]
  },
  {
   "cell_type": "markdown",
   "id": "stock-steal",
   "metadata": {},
   "source": [
    "Mathematical and statistical methods"
   ]
  },
  {
   "cell_type": "markdown",
   "id": "altered-spending",
   "metadata": {},
   "source": [
    "|"
   ]
  },
  {
   "cell_type": "code",
   "execution_count": 22,
   "id": "domestic-latex",
   "metadata": {},
   "outputs": [],
   "source": [
    "arr=np.random.randn(5,4)"
   ]
  },
  {
   "cell_type": "code",
   "execution_count": 23,
   "id": "demanding-credit",
   "metadata": {},
   "outputs": [
    {
     "data": {
      "text/plain": [
       "array([[-0.68583893,  1.09641482, -1.22301041,  0.15594188],\n",
       "       [-0.74844018, -1.11608081, -1.34019222,  2.07831182],\n",
       "       [ 0.29595218,  0.42062017, -0.10390904, -0.63722947],\n",
       "       [ 0.75887604,  0.69316398,  1.50532059, -1.2634479 ],\n",
       "       [-0.45531373, -0.72055007, -0.37865305,  0.66688075]])"
      ]
     },
     "execution_count": 23,
     "metadata": {},
     "output_type": "execute_result"
    }
   ],
   "source": [
    "arr"
   ]
  },
  {
   "cell_type": "code",
   "execution_count": 25,
   "id": "helpful-somerset",
   "metadata": {},
   "outputs": [
    {
     "data": {
      "text/plain": [
       "-0.050059179233389296"
      ]
     },
     "execution_count": 25,
     "metadata": {},
     "output_type": "execute_result"
    }
   ],
   "source": [
    "arr.mean()"
   ]
  },
  {
   "cell_type": "code",
   "execution_count": 26,
   "id": "toxic-blood",
   "metadata": {},
   "outputs": [
    {
     "data": {
      "text/plain": [
       "-0.050059179233389296"
      ]
     },
     "execution_count": 26,
     "metadata": {},
     "output_type": "execute_result"
    }
   ],
   "source": [
    "np.mean(arr)"
   ]
  },
  {
   "cell_type": "code",
   "execution_count": 27,
   "id": "latin-defeat",
   "metadata": {},
   "outputs": [
    {
     "data": {
      "text/plain": [
       "-1.001183584667786"
      ]
     },
     "execution_count": 27,
     "metadata": {},
     "output_type": "execute_result"
    }
   ],
   "source": [
    "np.sum(arr)"
   ]
  },
  {
   "cell_type": "code",
   "execution_count": 28,
   "id": "noticed-apple",
   "metadata": {},
   "outputs": [
    {
     "data": {
      "text/plain": [
       "array([-0.16695292,  0.07471362, -0.30808883,  0.20009142])"
      ]
     },
     "execution_count": 28,
     "metadata": {},
     "output_type": "execute_result"
    }
   ],
   "source": [
    "np.mean(arr,axis=0)"
   ]
  },
  {
   "cell_type": "code",
   "execution_count": 29,
   "id": "occupied-westminster",
   "metadata": {},
   "outputs": [
    {
     "data": {
      "text/plain": [
       "array([-0.65649264, -1.12640139, -0.02456615,  1.69391271, -0.88763611])"
      ]
     },
     "execution_count": 29,
     "metadata": {},
     "output_type": "execute_result"
    }
   ],
   "source": [
    "np.sum(arr,axis=1)"
   ]
  },
  {
   "cell_type": "code",
   "execution_count": 30,
   "id": "cutting-intellectual",
   "metadata": {},
   "outputs": [],
   "source": [
    "arr=np.random.randn(4,3)"
   ]
  },
  {
   "cell_type": "code",
   "execution_count": 31,
   "id": "passing-russell",
   "metadata": {},
   "outputs": [
    {
     "data": {
      "text/plain": [
       "array([[ 0.05206295,  1.37282345, -0.62264416],\n",
       "       [-0.32413805, -1.81582774, -1.00815127],\n",
       "       [-1.84608974, -1.81640131, -0.06967151],\n",
       "       [-0.96645711,  0.45508938,  1.57971023]])"
      ]
     },
     "execution_count": 31,
     "metadata": {},
     "output_type": "execute_result"
    }
   ],
   "source": [
    "arr"
   ]
  },
  {
   "cell_type": "code",
   "execution_count": 32,
   "id": "bottom-vision",
   "metadata": {},
   "outputs": [
    {
     "data": {
      "text/plain": [
       "array([0.82875603, 0.60967692, 0.8305024 , 1.04182184])"
      ]
     },
     "execution_count": 32,
     "metadata": {},
     "output_type": "execute_result"
    }
   ],
   "source": [
    "np.std(arr,axis=1)"
   ]
  },
  {
   "cell_type": "code",
   "execution_count": 33,
   "id": "possible-stock",
   "metadata": {},
   "outputs": [
    {
     "data": {
      "text/plain": [
       "array([0.68683655, 0.37170595, 0.68973423, 1.08539274])"
      ]
     },
     "execution_count": 33,
     "metadata": {},
     "output_type": "execute_result"
    }
   ],
   "source": [
    "np.var(arr,axis=1)"
   ]
  },
  {
   "cell_type": "code",
   "execution_count": 34,
   "id": "established-charity",
   "metadata": {},
   "outputs": [
    {
     "data": {
      "text/plain": [
       "11"
      ]
     },
     "execution_count": 34,
     "metadata": {},
     "output_type": "execute_result"
    }
   ],
   "source": [
    "np.argmax(arr)"
   ]
  },
  {
   "cell_type": "code",
   "execution_count": 35,
   "id": "thorough-bumper",
   "metadata": {},
   "outputs": [
    {
     "data": {
      "text/plain": [
       "6"
      ]
     },
     "execution_count": 35,
     "metadata": {},
     "output_type": "execute_result"
    }
   ],
   "source": [
    "np.argmin(arr)"
   ]
  },
  {
   "cell_type": "code",
   "execution_count": 36,
   "id": "fiscal-rebound",
   "metadata": {},
   "outputs": [
    {
     "data": {
      "text/plain": [
       "-1.8460897357984036"
      ]
     },
     "execution_count": 36,
     "metadata": {},
     "output_type": "execute_result"
    }
   ],
   "source": [
    "np.min(arr)"
   ]
  },
  {
   "cell_type": "code",
   "execution_count": 37,
   "id": "supposed-merit",
   "metadata": {},
   "outputs": [
    {
     "data": {
      "text/plain": [
       "1.5797102345971923"
      ]
     },
     "execution_count": 37,
     "metadata": {},
     "output_type": "execute_result"
    }
   ],
   "source": [
    "np.max(arr)"
   ]
  },
  {
   "cell_type": "code",
   "execution_count": 38,
   "id": "composed-airport",
   "metadata": {},
   "outputs": [
    {
     "data": {
      "text/plain": [
       "array([[ 0.05206295,  1.4248864 ,  0.80224223],\n",
       "       [-0.32413805, -2.13996579, -3.14811706],\n",
       "       [-1.84608974, -3.66249104, -3.73216256],\n",
       "       [-0.96645711, -0.51136773,  1.06834251]])"
      ]
     },
     "execution_count": 38,
     "metadata": {},
     "output_type": "execute_result"
    }
   ],
   "source": [
    "np.cumsum(arr,axis=1)"
   ]
  },
  {
   "cell_type": "markdown",
   "id": "gross-cancer",
   "metadata": {},
   "source": [
    "|"
   ]
  },
  {
   "cell_type": "markdown",
   "id": "ideal-awareness",
   "metadata": {},
   "source": [
    "Methods for Boolean Arrays"
   ]
  },
  {
   "cell_type": "markdown",
   "id": "immediate-director",
   "metadata": {},
   "source": [
    "|"
   ]
  },
  {
   "cell_type": "code",
   "execution_count": 41,
   "id": "chemical-metadata",
   "metadata": {},
   "outputs": [],
   "source": [
    "arr=np.random.randn(100)"
   ]
  },
  {
   "cell_type": "code",
   "execution_count": 43,
   "id": "uniform-remedy",
   "metadata": {},
   "outputs": [
    {
     "data": {
      "text/plain": [
       "52"
      ]
     },
     "execution_count": 43,
     "metadata": {},
     "output_type": "execute_result"
    }
   ],
   "source": [
    "(arr>0).sum()"
   ]
  },
  {
   "cell_type": "markdown",
   "id": "tender-pointer",
   "metadata": {},
   "source": [
    "|"
   ]
  },
  {
   "cell_type": "markdown",
   "id": "incredible-piano",
   "metadata": {},
   "source": [
    "Sorting"
   ]
  },
  {
   "cell_type": "markdown",
   "id": "biological-discipline",
   "metadata": {},
   "source": [
    "|"
   ]
  },
  {
   "cell_type": "code",
   "execution_count": 45,
   "id": "federal-twelve",
   "metadata": {},
   "outputs": [],
   "source": [
    "arr=np.random.randn(6)"
   ]
  },
  {
   "cell_type": "code",
   "execution_count": 46,
   "id": "framed-elder",
   "metadata": {},
   "outputs": [
    {
     "data": {
      "text/plain": [
       "array([ 0.23505617, -0.42023509,  0.07792767, -0.13352609, -0.69995008,\n",
       "       -0.11840472])"
      ]
     },
     "execution_count": 46,
     "metadata": {},
     "output_type": "execute_result"
    }
   ],
   "source": [
    "arr"
   ]
  },
  {
   "cell_type": "code",
   "execution_count": 47,
   "id": "residential-experiment",
   "metadata": {},
   "outputs": [],
   "source": [
    "arr.sort()"
   ]
  },
  {
   "cell_type": "code",
   "execution_count": 48,
   "id": "athletic-definition",
   "metadata": {},
   "outputs": [
    {
     "data": {
      "text/plain": [
       "array([-0.69995008, -0.42023509, -0.13352609, -0.11840472,  0.07792767,\n",
       "        0.23505617])"
      ]
     },
     "execution_count": 48,
     "metadata": {},
     "output_type": "execute_result"
    }
   ],
   "source": [
    "arr"
   ]
  },
  {
   "cell_type": "code",
   "execution_count": 56,
   "id": "yellow-collection",
   "metadata": {},
   "outputs": [],
   "source": [
    "arr=np.random.randn(5,3)"
   ]
  },
  {
   "cell_type": "code",
   "execution_count": 57,
   "id": "growing-decision",
   "metadata": {},
   "outputs": [
    {
     "data": {
      "text/plain": [
       "array([[ 1.11120838, -1.44745751,  0.88126068],\n",
       "       [-0.60980568, -0.00681901, -1.65754183],\n",
       "       [-1.68058276,  2.1712182 , -0.66259526],\n",
       "       [-1.2887953 , -0.67281147, -0.25819642],\n",
       "       [-0.69972902, -0.05597007, -1.27279283]])"
      ]
     },
     "execution_count": 57,
     "metadata": {},
     "output_type": "execute_result"
    }
   ],
   "source": [
    "arr"
   ]
  },
  {
   "cell_type": "code",
   "execution_count": 58,
   "id": "bizarre-bunch",
   "metadata": {},
   "outputs": [
    {
     "data": {
      "text/plain": [
       "array([[-1.44745751,  0.88126068,  1.11120838],\n",
       "       [-1.65754183, -0.60980568, -0.00681901],\n",
       "       [-1.68058276, -0.66259526,  2.1712182 ],\n",
       "       [-1.2887953 , -0.67281147, -0.25819642],\n",
       "       [-1.27279283, -0.69972902, -0.05597007]])"
      ]
     },
     "execution_count": 58,
     "metadata": {},
     "output_type": "execute_result"
    }
   ],
   "source": [
    "np.sort(arr,axis=1)"
   ]
  },
  {
   "cell_type": "code",
   "execution_count": 59,
   "id": "rocky-disney",
   "metadata": {},
   "outputs": [
    {
     "data": {
      "text/plain": [
       "array([[ 1.11120838, -1.44745751,  0.88126068],\n",
       "       [-0.60980568, -0.00681901, -1.65754183],\n",
       "       [-1.68058276,  2.1712182 , -0.66259526],\n",
       "       [-1.2887953 , -0.67281147, -0.25819642],\n",
       "       [-0.69972902, -0.05597007, -1.27279283]])"
      ]
     },
     "execution_count": 59,
     "metadata": {},
     "output_type": "execute_result"
    }
   ],
   "source": [
    "arr"
   ]
  },
  {
   "cell_type": "code",
   "execution_count": 62,
   "id": "advance-trigger",
   "metadata": {},
   "outputs": [],
   "source": [
    "names=np.array([\"ter\",\"cut\",\"ter\",\"ter\",\"cut\"])"
   ]
  },
  {
   "cell_type": "code",
   "execution_count": 64,
   "id": "appreciated-costa",
   "metadata": {},
   "outputs": [
    {
     "data": {
      "text/plain": [
       "array([[-1.44745751,  0.88126068,  1.11120838],\n",
       "       [-0.00681901, -1.65754183, -0.60980568],\n",
       "       [ 2.1712182 , -0.66259526, -1.68058276],\n",
       "       [-0.67281147, -0.25819642, -1.2887953 ],\n",
       "       [-0.05597007, -1.27279283, -0.69972902]])"
      ]
     },
     "execution_count": 64,
     "metadata": {},
     "output_type": "execute_result"
    }
   ],
   "source": [
    "np.unique(arr,axis=1)"
   ]
  },
  {
   "cell_type": "code",
   "execution_count": 65,
   "id": "introductory-filter",
   "metadata": {},
   "outputs": [],
   "source": [
    "from numpy.linalg import inv,qr"
   ]
  },
  {
   "cell_type": "code",
   "execution_count": 66,
   "id": "voluntary-photograph",
   "metadata": {},
   "outputs": [],
   "source": [
    "X=np.random.randn(5,4)"
   ]
  },
  {
   "cell_type": "code",
   "execution_count": 68,
   "id": "sapphire-advance",
   "metadata": {},
   "outputs": [],
   "source": [
    "mat=np.dot(X.T,X)"
   ]
  },
  {
   "cell_type": "code",
   "execution_count": 69,
   "id": "diverse-remains",
   "metadata": {},
   "outputs": [
    {
     "data": {
      "text/plain": [
       "array([[ 0.30965317,  0.38561799,  0.201781  , -0.29515001],\n",
       "       [ 0.38561799,  0.8784222 ,  0.41982789, -0.54206239],\n",
       "       [ 0.201781  ,  0.41982789,  0.28543861, -0.30803261],\n",
       "       [-0.29515001, -0.54206239, -0.30803261,  0.52056901]])"
      ]
     },
     "execution_count": 69,
     "metadata": {},
     "output_type": "execute_result"
    }
   ],
   "source": [
    "inv(mat)"
   ]
  },
  {
   "cell_type": "code",
   "execution_count": 70,
   "id": "ultimate-cancer",
   "metadata": {},
   "outputs": [
    {
     "data": {
      "text/plain": [
       "array([[ 8.14924955, -1.94481168, -0.27561807,  2.43222797],\n",
       "       [-1.94481168,  5.033862  , -4.32272982,  1.58118188],\n",
       "       [-0.27561807, -4.32272982, 13.91665294,  3.57732601],\n",
       "       [ 2.43222797,  1.58118188,  3.57732601,  7.06324112]])"
      ]
     },
     "execution_count": 70,
     "metadata": {},
     "output_type": "execute_result"
    }
   ],
   "source": [
    "mat"
   ]
  },
  {
   "cell_type": "code",
   "execution_count": 71,
   "id": "powerful-builder",
   "metadata": {},
   "outputs": [
    {
     "data": {
      "text/plain": [
       "34.1630056072067"
      ]
     },
     "execution_count": 71,
     "metadata": {},
     "output_type": "execute_result"
    }
   ],
   "source": [
    "np.trace(mat)"
   ]
  },
  {
   "cell_type": "code",
   "execution_count": 77,
   "id": "designed-corruption",
   "metadata": {},
   "outputs": [],
   "source": [
    "from numpy.linalg import eig,svd"
   ]
  },
  {
   "cell_type": "code",
   "execution_count": 74,
   "id": "twenty-poetry",
   "metadata": {},
   "outputs": [
    {
     "data": {
      "text/plain": [
       "(array([ 0.5902621 , 16.64820867,  9.48603516,  7.43849967]),\n",
       " array([[-0.35498085, -0.13187909,  0.83087705, -0.40772518],\n",
       "        [-0.69402079,  0.30980876,  0.06973224,  0.6461355 ],\n",
       "        [-0.3684376 , -0.88781352, -0.26936585,  0.05901631],\n",
       "        [ 0.50653476, -0.3137094 ,  0.48189499,  0.64248437]]))"
      ]
     },
     "execution_count": 74,
     "metadata": {},
     "output_type": "execute_result"
    }
   ],
   "source": [
    "eig(mat)"
   ]
  },
  {
   "cell_type": "code",
   "execution_count": 75,
   "id": "governmental-margin",
   "metadata": {},
   "outputs": [
    {
     "data": {
      "text/plain": [
       "(array([[-0.93365192, -0.03870425,  0.10074887, -0.3415344 ],\n",
       "        [ 0.22281526, -0.67397676, -0.32041487, -0.62725035],\n",
       "        [ 0.03157731,  0.65742735, -0.66313012, -0.35644156],\n",
       "        [-0.27865809, -0.33473361, -0.66891136,  0.60237917]]),\n",
       " array([[ -8.72835947,   2.36028915,  -1.26323926,  -3.77380981],\n",
       "        [  0.        ,  -6.68858905,  10.87582407,  -1.17228961],\n",
       "        [  0.        ,   0.        , -10.2641671 ,  -7.35850486],\n",
       "        [  0.        ,   0.        ,   0.        ,   1.15715528]]))"
      ]
     },
     "execution_count": 75,
     "metadata": {},
     "output_type": "execute_result"
    }
   ],
   "source": [
    "qr(mat)"
   ]
  },
  {
   "cell_type": "code",
   "execution_count": 78,
   "id": "mature-saver",
   "metadata": {},
   "outputs": [
    {
     "data": {
      "text/plain": [
       "(array([[-0.13187909, -0.83087705,  0.40772518, -0.35498085],\n",
       "        [ 0.30980876, -0.06973224, -0.6461355 , -0.69402079],\n",
       "        [-0.88781352,  0.26936585, -0.05901631, -0.3684376 ],\n",
       "        [-0.3137094 , -0.48189499, -0.64248437,  0.50653476]]),\n",
       " array([16.64820867,  9.48603516,  7.43849967,  0.5902621 ]),\n",
       " array([[-0.13187909,  0.30980876, -0.88781352, -0.3137094 ],\n",
       "        [-0.83087705, -0.06973224,  0.26936585, -0.48189499],\n",
       "        [ 0.40772518, -0.6461355 , -0.05901631, -0.64248437],\n",
       "        [-0.35498085, -0.69402079, -0.3684376 ,  0.50653476]]))"
      ]
     },
     "execution_count": 78,
     "metadata": {},
     "output_type": "execute_result"
    }
   ],
   "source": [
    "svd(mat)"
   ]
  },
  {
   "cell_type": "code",
   "execution_count": 89,
   "id": "criminal-jaguar",
   "metadata": {},
   "outputs": [],
   "source": [
    "arr=np.random.randint(-10,30,size=(4,5),dtype=np.int64)"
   ]
  },
  {
   "cell_type": "code",
   "execution_count": 90,
   "id": "olympic-topic",
   "metadata": {},
   "outputs": [
    {
     "data": {
      "text/plain": [
       "array([[ 14,  -1,  27,  25,  17],\n",
       "       [ 20,  26,   2,  -1,  13],\n",
       "       [ 17,  27,  -1,  12,  20],\n",
       "       [ 22,  -5, -10,   3,  10]], dtype=int64)"
      ]
     },
     "execution_count": 90,
     "metadata": {},
     "output_type": "execute_result"
    }
   ],
   "source": [
    "arr"
   ]
  },
  {
   "cell_type": "code",
   "execution_count": null,
   "id": "convenient-jordan",
   "metadata": {},
   "outputs": [],
   "source": []
  }
 ],
 "metadata": {
  "kernelspec": {
   "display_name": "Python 3",
   "language": "python",
   "name": "python3"
  },
  "language_info": {
   "codemirror_mode": {
    "name": "ipython",
    "version": 3
   },
   "file_extension": ".py",
   "mimetype": "text/x-python",
   "name": "python",
   "nbconvert_exporter": "python",
   "pygments_lexer": "ipython3",
   "version": "3.8.5"
  }
 },
 "nbformat": 4,
 "nbformat_minor": 5
}
