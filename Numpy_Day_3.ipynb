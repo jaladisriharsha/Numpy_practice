{
 "cells": [
  {
   "cell_type": "markdown",
   "id": "equipped-outside",
   "metadata": {},
   "source": [
    "Fancy Indexing"
   ]
  },
  {
   "cell_type": "code",
   "execution_count": 10,
   "id": "electrical-jacob",
   "metadata": {},
   "outputs": [],
   "source": [
    "import numpy as np\n"
   ]
  },
  {
   "cell_type": "code",
   "execution_count": 14,
   "id": "bronze-central",
   "metadata": {},
   "outputs": [],
   "source": [
    "arr=np.empty((8,4))"
   ]
  },
  {
   "cell_type": "code",
   "execution_count": 15,
   "id": "cooked-cargo",
   "metadata": {},
   "outputs": [
    {
     "data": {
      "text/plain": [
       "array([[6.23042070e-307, 1.86918699e-306, 6.23059386e-307,\n",
       "        1.42417629e-306],\n",
       "       [1.02361614e-306, 1.33512376e-306, 1.33511290e-306,\n",
       "        1.78018403e-306],\n",
       "       [1.37962388e-306, 1.37961913e-306, 1.86921415e-306,\n",
       "        8.01097889e-307],\n",
       "       [1.78020169e-306, 7.56601165e-307, 1.02359984e-306,\n",
       "        1.78018403e-306],\n",
       "       [1.37962388e-306, 1.37961913e-306, 7.56589622e-307,\n",
       "        1.95818994e-306],\n",
       "       [1.37961302e-306, 1.78019082e-306, 6.23037657e-307,\n",
       "        1.29061685e-306],\n",
       "       [6.23061763e-307, 9.34607074e-307, 9.34605037e-307,\n",
       "        1.24610723e-306],\n",
       "       [1.11260144e-306, 6.89812281e-307, 2.22522596e-306,\n",
       "        1.42410974e-306]])"
      ]
     },
     "execution_count": 15,
     "metadata": {},
     "output_type": "execute_result"
    }
   ],
   "source": [
    "arr"
   ]
  },
  {
   "cell_type": "code",
   "execution_count": 16,
   "id": "brazilian-royalty",
   "metadata": {},
   "outputs": [],
   "source": [
    "for i in range(8):\n",
    "    arr[i]=i"
   ]
  },
  {
   "cell_type": "code",
   "execution_count": 17,
   "id": "ideal-vinyl",
   "metadata": {},
   "outputs": [
    {
     "data": {
      "text/plain": [
       "array([[0., 0., 0., 0.],\n",
       "       [1., 1., 1., 1.],\n",
       "       [2., 2., 2., 2.],\n",
       "       [3., 3., 3., 3.],\n",
       "       [4., 4., 4., 4.],\n",
       "       [5., 5., 5., 5.],\n",
       "       [6., 6., 6., 6.],\n",
       "       [7., 7., 7., 7.]])"
      ]
     },
     "execution_count": 17,
     "metadata": {},
     "output_type": "execute_result"
    }
   ],
   "source": [
    "arr"
   ]
  },
  {
   "cell_type": "code",
   "execution_count": 18,
   "id": "mechanical-proposal",
   "metadata": {},
   "outputs": [],
   "source": [
    "arr=arr.astype(np.int64)"
   ]
  },
  {
   "cell_type": "code",
   "execution_count": 19,
   "id": "neural-employer",
   "metadata": {},
   "outputs": [
    {
     "data": {
      "text/plain": [
       "array([[0, 0, 0, 0],\n",
       "       [1, 1, 1, 1],\n",
       "       [2, 2, 2, 2],\n",
       "       [3, 3, 3, 3],\n",
       "       [4, 4, 4, 4],\n",
       "       [5, 5, 5, 5],\n",
       "       [6, 6, 6, 6],\n",
       "       [7, 7, 7, 7]], dtype=int64)"
      ]
     },
     "execution_count": 19,
     "metadata": {},
     "output_type": "execute_result"
    }
   ],
   "source": [
    "arr"
   ]
  },
  {
   "cell_type": "code",
   "execution_count": 20,
   "id": "heavy-glasgow",
   "metadata": {},
   "outputs": [
    {
     "data": {
      "text/plain": [
       "array([[3, 3, 3, 3],\n",
       "       [5, 5, 5, 5],\n",
       "       [6, 6, 6, 6]], dtype=int64)"
      ]
     },
     "execution_count": 20,
     "metadata": {},
     "output_type": "execute_result"
    }
   ],
   "source": [
    "arr[[3,5,6]]"
   ]
  },
  {
   "cell_type": "code",
   "execution_count": 21,
   "id": "standard-canberra",
   "metadata": {},
   "outputs": [],
   "source": [
    "arr=np.arange(32).reshape((8,4))"
   ]
  },
  {
   "cell_type": "code",
   "execution_count": 22,
   "id": "liquid-slovak",
   "metadata": {},
   "outputs": [
    {
     "data": {
      "text/plain": [
       "array([[ 0,  1,  2,  3],\n",
       "       [ 4,  5,  6,  7],\n",
       "       [ 8,  9, 10, 11],\n",
       "       [12, 13, 14, 15],\n",
       "       [16, 17, 18, 19],\n",
       "       [20, 21, 22, 23],\n",
       "       [24, 25, 26, 27],\n",
       "       [28, 29, 30, 31]])"
      ]
     },
     "execution_count": 22,
     "metadata": {},
     "output_type": "execute_result"
    }
   ],
   "source": [
    "arr"
   ]
  },
  {
   "cell_type": "code",
   "execution_count": 24,
   "id": "sunrise-yahoo",
   "metadata": {},
   "outputs": [
    {
     "data": {
      "text/plain": [
       "array([ 6, 23, 28,  9])"
      ]
     },
     "execution_count": 24,
     "metadata": {},
     "output_type": "execute_result"
    }
   ],
   "source": [
    "arr[[1,5,7,2],[2,3,0,1]]"
   ]
  },
  {
   "cell_type": "markdown",
   "id": "plastic-uganda",
   "metadata": {},
   "source": [
    "Transposing Arrays and Swapping Axes"
   ]
  },
  {
   "cell_type": "code",
   "execution_count": 26,
   "id": "brilliant-miracle",
   "metadata": {},
   "outputs": [],
   "source": [
    "arr=np.arange(15).reshape((3,5))"
   ]
  },
  {
   "cell_type": "code",
   "execution_count": 27,
   "id": "gentle-dining",
   "metadata": {},
   "outputs": [
    {
     "data": {
      "text/plain": [
       "array([[ 0,  1,  2,  3,  4],\n",
       "       [ 5,  6,  7,  8,  9],\n",
       "       [10, 11, 12, 13, 14]])"
      ]
     },
     "execution_count": 27,
     "metadata": {},
     "output_type": "execute_result"
    }
   ],
   "source": [
    "arr"
   ]
  },
  {
   "cell_type": "code",
   "execution_count": 28,
   "id": "velvet-globe",
   "metadata": {},
   "outputs": [
    {
     "data": {
      "text/plain": [
       "array([[ 0,  5, 10],\n",
       "       [ 1,  6, 11],\n",
       "       [ 2,  7, 12],\n",
       "       [ 3,  8, 13],\n",
       "       [ 4,  9, 14]])"
      ]
     },
     "execution_count": 28,
     "metadata": {},
     "output_type": "execute_result"
    }
   ],
   "source": [
    "arr.T"
   ]
  },
  {
   "cell_type": "code",
   "execution_count": 29,
   "id": "metallic-newark",
   "metadata": {},
   "outputs": [],
   "source": [
    "arr=np.random.randn(6,3)"
   ]
  },
  {
   "cell_type": "code",
   "execution_count": 37,
   "id": "excessive-priority",
   "metadata": {},
   "outputs": [
    {
     "data": {
      "text/plain": [
       "array([[-0.89932436,  0.21416416, -0.57130626],\n",
       "       [ 0.26434499, -0.13622279,  0.8105614 ],\n",
       "       [ 1.09429995, -1.56206168,  0.04420618],\n",
       "       [-0.56858377,  0.55574641,  0.66102777],\n",
       "       [ 1.9266864 , -0.15776932,  0.67130293],\n",
       "       [ 0.23151355,  0.70166242,  0.36506352]])"
      ]
     },
     "execution_count": 37,
     "metadata": {},
     "output_type": "execute_result"
    }
   ],
   "source": [
    "arr"
   ]
  },
  {
   "cell_type": "code",
   "execution_count": 38,
   "id": "steady-writer",
   "metadata": {},
   "outputs": [
    {
     "data": {
      "text/plain": [
       "array([[ 6.16516145, -2.39549292,  1.77849002],\n",
       "       [-2.39549292,  3.33053502,  0.21578112],\n",
       "       [ 1.77849002,  0.21578112,  2.00623153]])"
      ]
     },
     "execution_count": 38,
     "metadata": {},
     "output_type": "execute_result"
    }
   ],
   "source": [
    "np.dot(arr.T,arr)"
   ]
  },
  {
   "cell_type": "code",
   "execution_count": 39,
   "id": "formed-perception",
   "metadata": {},
   "outputs": [],
   "source": [
    "arr=np.arange(16).reshape((2,2,4))"
   ]
  },
  {
   "cell_type": "markdown",
   "id": "empty-register",
   "metadata": {},
   "source": [
    "Unversal Functions"
   ]
  },
  {
   "cell_type": "code",
   "execution_count": 41,
   "id": "weird-drain",
   "metadata": {},
   "outputs": [],
   "source": [
    "arr=np.arange(10)"
   ]
  },
  {
   "cell_type": "code",
   "execution_count": 42,
   "id": "accurate-mother",
   "metadata": {},
   "outputs": [
    {
     "data": {
      "text/plain": [
       "array([0, 1, 2, 3, 4, 5, 6, 7, 8, 9])"
      ]
     },
     "execution_count": 42,
     "metadata": {},
     "output_type": "execute_result"
    }
   ],
   "source": [
    "arr"
   ]
  },
  {
   "cell_type": "code",
   "execution_count": 43,
   "id": "damaged-litigation",
   "metadata": {},
   "outputs": [
    {
     "data": {
      "text/plain": [
       "array([0.        , 1.        , 1.41421356, 1.73205081, 2.        ,\n",
       "       2.23606798, 2.44948974, 2.64575131, 2.82842712, 3.        ])"
      ]
     },
     "execution_count": 43,
     "metadata": {},
     "output_type": "execute_result"
    }
   ],
   "source": [
    "np.sqrt(arr)"
   ]
  },
  {
   "cell_type": "code",
   "execution_count": 44,
   "id": "responsible-ghost",
   "metadata": {},
   "outputs": [
    {
     "data": {
      "text/plain": [
       "array([1.00000000e+00, 2.71828183e+00, 7.38905610e+00, 2.00855369e+01,\n",
       "       5.45981500e+01, 1.48413159e+02, 4.03428793e+02, 1.09663316e+03,\n",
       "       2.98095799e+03, 8.10308393e+03])"
      ]
     },
     "execution_count": 44,
     "metadata": {},
     "output_type": "execute_result"
    }
   ],
   "source": [
    "np.exp(arr)"
   ]
  },
  {
   "cell_type": "code",
   "execution_count": 45,
   "id": "eight-management",
   "metadata": {},
   "outputs": [],
   "source": [
    "x=np.random.randn(8)"
   ]
  },
  {
   "cell_type": "code",
   "execution_count": 46,
   "id": "adjusted-potential",
   "metadata": {},
   "outputs": [
    {
     "data": {
      "text/plain": [
       "array([-0.1413754 , -0.86255014,  0.96447136,  1.04049737, -0.60431578,\n",
       "        1.39939836,  0.67574409, -1.14027662])"
      ]
     },
     "execution_count": 46,
     "metadata": {},
     "output_type": "execute_result"
    }
   ],
   "source": [
    "x"
   ]
  },
  {
   "cell_type": "code",
   "execution_count": 47,
   "id": "serious-proposal",
   "metadata": {},
   "outputs": [],
   "source": [
    "y=np.random.randn(8)"
   ]
  },
  {
   "cell_type": "code",
   "execution_count": 48,
   "id": "expressed-coordinator",
   "metadata": {},
   "outputs": [
    {
     "data": {
      "text/plain": [
       "array([-1.04687639, -0.16380236, -2.14491823,  0.51556474,  1.76221052,\n",
       "        0.95554943,  0.19122201,  1.41942455])"
      ]
     },
     "execution_count": 48,
     "metadata": {},
     "output_type": "execute_result"
    }
   ],
   "source": [
    "y"
   ]
  },
  {
   "cell_type": "code",
   "execution_count": 49,
   "id": "composite-dodge",
   "metadata": {},
   "outputs": [
    {
     "data": {
      "text/plain": [
       "array([-0.1413754 , -0.16380236,  0.96447136,  1.04049737,  1.76221052,\n",
       "        1.39939836,  0.67574409,  1.41942455])"
      ]
     },
     "execution_count": 49,
     "metadata": {},
     "output_type": "execute_result"
    }
   ],
   "source": [
    "np.maximum(x,y)"
   ]
  },
  {
   "cell_type": "code",
   "execution_count": 52,
   "id": "empirical-september",
   "metadata": {},
   "outputs": [],
   "source": [
    "arr=np.random.randn(7)*5"
   ]
  },
  {
   "cell_type": "code",
   "execution_count": 53,
   "id": "loaded-bride",
   "metadata": {},
   "outputs": [
    {
     "data": {
      "text/plain": [
       "array([-5.58555941,  1.57041419, -1.21175821,  1.09269494,  1.76039691,\n",
       "       -1.86842055,  0.36680779])"
      ]
     },
     "execution_count": 53,
     "metadata": {},
     "output_type": "execute_result"
    }
   ],
   "source": [
    "arr"
   ]
  },
  {
   "cell_type": "code",
   "execution_count": 54,
   "id": "exempt-fossil",
   "metadata": {},
   "outputs": [],
   "source": [
    "remin,whole_part=np.modf(arr)"
   ]
  },
  {
   "cell_type": "code",
   "execution_count": 56,
   "id": "alike-tuesday",
   "metadata": {},
   "outputs": [
    {
     "data": {
      "text/plain": [
       "array([-0.58555941,  0.57041419, -0.21175821,  0.09269494,  0.76039691,\n",
       "       -0.86842055,  0.36680779])"
      ]
     },
     "execution_count": 56,
     "metadata": {},
     "output_type": "execute_result"
    }
   ],
   "source": [
    "remin"
   ]
  },
  {
   "cell_type": "code",
   "execution_count": 57,
   "id": "spiritual-short",
   "metadata": {},
   "outputs": [
    {
     "data": {
      "text/plain": [
       "array([-5.,  1., -1.,  1.,  1., -1.,  0.])"
      ]
     },
     "execution_count": 57,
     "metadata": {},
     "output_type": "execute_result"
    }
   ],
   "source": [
    "whole_part"
   ]
  },
  {
   "cell_type": "code",
   "execution_count": 58,
   "id": "several-sandwich",
   "metadata": {},
   "outputs": [],
   "source": [
    "arr=np.random.randn(4,5)"
   ]
  },
  {
   "cell_type": "code",
   "execution_count": 59,
   "id": "loving-karma",
   "metadata": {},
   "outputs": [
    {
     "data": {
      "text/plain": [
       "array([[ 1.55654794, -0.78805329, -2.58010225,  0.04531408,  1.63710549],\n",
       "       [-2.31988931, -1.12559045, -0.43166927,  0.91386171, -1.16422258],\n",
       "       [-0.98483379, -0.95304513,  1.73743184, -0.22119168, -0.57620019],\n",
       "       [-0.25762725,  0.10465647, -1.28332057, -0.81169433, -0.41188897]])"
      ]
     },
     "execution_count": 59,
     "metadata": {},
     "output_type": "execute_result"
    }
   ],
   "source": [
    "arr"
   ]
  },
  {
   "cell_type": "code",
   "execution_count": 60,
   "id": "about-disney",
   "metadata": {},
   "outputs": [
    {
     "data": {
      "text/plain": [
       "array([[1.55654794, 0.78805329, 2.58010225, 0.04531408, 1.63710549],\n",
       "       [2.31988931, 1.12559045, 0.43166927, 0.91386171, 1.16422258],\n",
       "       [0.98483379, 0.95304513, 1.73743184, 0.22119168, 0.57620019],\n",
       "       [0.25762725, 0.10465647, 1.28332057, 0.81169433, 0.41188897]])"
      ]
     },
     "execution_count": 60,
     "metadata": {},
     "output_type": "execute_result"
    }
   ],
   "source": [
    "np.abs(arr)"
   ]
  },
  {
   "cell_type": "code",
   "execution_count": 61,
   "id": "skilled-czech",
   "metadata": {},
   "outputs": [
    {
     "data": {
      "text/plain": [
       "array([[1.55654794, 0.78805329, 2.58010225, 0.04531408, 1.63710549],\n",
       "       [2.31988931, 1.12559045, 0.43166927, 0.91386171, 1.16422258],\n",
       "       [0.98483379, 0.95304513, 1.73743184, 0.22119168, 0.57620019],\n",
       "       [0.25762725, 0.10465647, 1.28332057, 0.81169433, 0.41188897]])"
      ]
     },
     "execution_count": 61,
     "metadata": {},
     "output_type": "execute_result"
    }
   ],
   "source": [
    "np.fabs(arr)"
   ]
  },
  {
   "cell_type": "code",
   "execution_count": 62,
   "id": "abandoned-laser",
   "metadata": {},
   "outputs": [
    {
     "data": {
      "text/plain": [
       "array([[2.42284149e+00, 6.21027993e-01, 6.65692763e+00, 2.05336569e-03,\n",
       "        2.68011440e+00],\n",
       "       [5.38188642e+00, 1.26695387e+00, 1.86338361e-01, 8.35143231e-01,\n",
       "        1.35541422e+00],\n",
       "       [9.69897590e-01, 9.08295028e-01, 3.01866941e+00, 4.89257578e-02,\n",
       "        3.32006660e-01],\n",
       "       [6.63717983e-02, 1.09529758e-02, 1.64691170e+00, 6.58847688e-01,\n",
       "        1.69652520e-01]])"
      ]
     },
     "execution_count": 62,
     "metadata": {},
     "output_type": "execute_result"
    }
   ],
   "source": [
    "np.square(arr)"
   ]
  },
  {
   "cell_type": "code",
   "execution_count": 63,
   "id": "statewide-structure",
   "metadata": {},
   "outputs": [
    {
     "data": {
      "text/plain": [
       "array([[4.74242183, 0.45472916, 0.07576626, 1.04635645, 5.14026942],\n",
       "       [0.09828446, 0.32446083, 0.64942412, 2.49393482, 0.31216525],\n",
       "       [0.3735013 , 0.38556514, 5.68273052, 0.80156302, 0.56202992],\n",
       "       [0.77288327, 1.11032911, 0.27711559, 0.44410497, 0.66239782]])"
      ]
     },
     "execution_count": 63,
     "metadata": {},
     "output_type": "execute_result"
    }
   ],
   "source": [
    "np.exp(arr)"
   ]
  },
  {
   "cell_type": "code",
   "execution_count": 64,
   "id": "electronic-constraint",
   "metadata": {},
   "outputs": [
    {
     "name": "stderr",
     "output_type": "stream",
     "text": [
      "<ipython-input-64-a67b4ae04e95>:1: RuntimeWarning: invalid value encountered in log\n",
      "  np.log(arr)\n"
     ]
    },
    {
     "data": {
      "text/plain": [
       "array([[ 0.44247051,         nan,         nan, -3.09413752,  0.49292974],\n",
       "       [        nan,         nan,         nan, -0.09007602,         nan],\n",
       "       [        nan,         nan,  0.55240807,         nan,         nan],\n",
       "       [        nan, -2.25707205,         nan,         nan,         nan]])"
      ]
     },
     "execution_count": 64,
     "metadata": {},
     "output_type": "execute_result"
    }
   ],
   "source": [
    "np.log(arr)"
   ]
  },
  {
   "cell_type": "code",
   "execution_count": 66,
   "id": "clinical-thomas",
   "metadata": {},
   "outputs": [
    {
     "name": "stderr",
     "output_type": "stream",
     "text": [
      "<ipython-input-66-4473232fb1a0>:1: RuntimeWarning: invalid value encountered in log10\n",
      "  np.log10(arr)\n"
     ]
    },
    {
     "data": {
      "text/plain": [
       "array([[ 0.1921625 ,         nan,         nan, -1.34376685,  0.21407667],\n",
       "       [        nan,         nan,         nan, -0.03911952,         nan],\n",
       "       [        nan,         nan,  0.23990778,         nan,         nan],\n",
       "       [        nan, -0.98023394,         nan,         nan,         nan]])"
      ]
     },
     "execution_count": 66,
     "metadata": {},
     "output_type": "execute_result"
    }
   ],
   "source": [
    "np.log10(arr)"
   ]
  },
  {
   "cell_type": "code",
   "execution_count": 67,
   "id": "immediate-sellers",
   "metadata": {},
   "outputs": [
    {
     "data": {
      "text/plain": [
       "array([[ 1., -1., -1.,  1.,  1.],\n",
       "       [-1., -1., -1.,  1., -1.],\n",
       "       [-1., -1.,  1., -1., -1.],\n",
       "       [-1.,  1., -1., -1., -1.]])"
      ]
     },
     "execution_count": 67,
     "metadata": {},
     "output_type": "execute_result"
    }
   ],
   "source": [
    "np.sign(arr)"
   ]
  },
  {
   "cell_type": "code",
   "execution_count": 68,
   "id": "elder-lemon",
   "metadata": {},
   "outputs": [
    {
     "data": {
      "text/plain": [
       "array([[ 2., -0., -2.,  1.,  2.],\n",
       "       [-2., -1., -0.,  1., -1.],\n",
       "       [-0., -0.,  2., -0., -0.],\n",
       "       [-0.,  1., -1., -0., -0.]])"
      ]
     },
     "execution_count": 68,
     "metadata": {},
     "output_type": "execute_result"
    }
   ],
   "source": [
    "np.ceil(arr)"
   ]
  },
  {
   "cell_type": "code",
   "execution_count": 69,
   "id": "reported-hearts",
   "metadata": {},
   "outputs": [
    {
     "data": {
      "text/plain": [
       "array([[ 1., -1., -3.,  0.,  1.],\n",
       "       [-3., -2., -1.,  0., -2.],\n",
       "       [-1., -1.,  1., -1., -1.],\n",
       "       [-1.,  0., -2., -1., -1.]])"
      ]
     },
     "execution_count": 69,
     "metadata": {},
     "output_type": "execute_result"
    }
   ],
   "source": [
    "np.floor(arr)"
   ]
  },
  {
   "cell_type": "code",
   "execution_count": 70,
   "id": "continent-snake",
   "metadata": {},
   "outputs": [
    {
     "data": {
      "text/plain": [
       "array([[False, False, False, False, False],\n",
       "       [False, False, False, False, False],\n",
       "       [False, False, False, False, False],\n",
       "       [False, False, False, False, False]])"
      ]
     },
     "execution_count": 70,
     "metadata": {},
     "output_type": "execute_result"
    }
   ],
   "source": [
    "np.isnan(arr)"
   ]
  },
  {
   "cell_type": "code",
   "execution_count": 71,
   "id": "creative-garden",
   "metadata": {},
   "outputs": [
    {
     "data": {
      "text/plain": [
       "array([[ 0.01424791,  0.70522683, -0.84646249,  0.99897349, -0.06626059],\n",
       "       [-0.68097483,  0.43064369,  0.90826861,  0.61069234,  0.3954647 ],\n",
       "       [ 0.55300161,  0.57920344, -0.16586541,  0.9756367 ,  0.83853899],\n",
       "       [ 0.96699725,  0.99452851,  0.28353247,  0.68827026,  0.91636623]])"
      ]
     },
     "execution_count": 71,
     "metadata": {},
     "output_type": "execute_result"
    }
   ],
   "source": [
    "np.cos(arr)"
   ]
  },
  {
   "cell_type": "code",
   "execution_count": 72,
   "id": "cardiac-jamaica",
   "metadata": {},
   "outputs": [
    {
     "data": {
      "text/plain": [
       "array([[ 0.99989849, -0.70898175, -0.53244836,  0.04529857,  0.99780235],\n",
       "       [-0.73230682, -0.90252203, -0.41838753,  0.79186796, -0.91848117],\n",
       "       [-0.83318019, -0.81518303,  0.9861484 , -0.21939242, -0.54484159],\n",
       "       [-0.25478683,  0.10446552, -0.95896264, -0.72545437, -0.40034103]])"
      ]
     },
     "execution_count": 72,
     "metadata": {},
     "output_type": "execute_result"
    }
   ],
   "source": [
    "np.sin(arr)"
   ]
  },
  {
   "cell_type": "code",
   "execution_count": 74,
   "id": "fabulous-oxford",
   "metadata": {},
   "outputs": [
    {
     "data": {
      "text/plain": [
       "array([[ 7.01786305e+01, -1.00532441e+00,  6.29027706e-01,\n",
       "         4.53451193e-02, -1.50587613e+01],\n",
       "       [ 1.07538017e+00, -2.09575117e+00, -4.60642950e-01,\n",
       "         1.29667248e+00, -2.32253641e+00],\n",
       "       [-1.50665057e+00, -1.40742092e+00, -5.94547338e+00,\n",
       "        -2.24871023e-01, -6.49751049e-01],\n",
       "       [-2.63482473e-01,  1.05040247e-01, -3.38219686e+00,\n",
       "        -1.05402545e+00, -4.36878851e-01]])"
      ]
     },
     "execution_count": 74,
     "metadata": {},
     "output_type": "execute_result"
    }
   ],
   "source": [
    "np.tan(arr)"
   ]
  },
  {
   "cell_type": "code",
   "execution_count": 79,
   "id": "talented-sailing",
   "metadata": {},
   "outputs": [],
   "source": [
    "arr1=np.random.randn(3,4)"
   ]
  },
  {
   "cell_type": "code",
   "execution_count": 80,
   "id": "mathematical-steering",
   "metadata": {},
   "outputs": [
    {
     "data": {
      "text/plain": [
       "array([[-0.93954055,  1.70153738,  0.30676732,  0.50372567],\n",
       "       [ 2.25876438, -0.10878907, -0.0791485 , -0.56688222],\n",
       "       [ 1.15913835, -0.12787873, -0.06400906,  0.88020772]])"
      ]
     },
     "execution_count": 80,
     "metadata": {},
     "output_type": "execute_result"
    }
   ],
   "source": [
    "arr1"
   ]
  },
  {
   "cell_type": "code",
   "execution_count": 81,
   "id": "productive-tenant",
   "metadata": {},
   "outputs": [],
   "source": [
    "arr2=np.random.randn(3,4)"
   ]
  },
  {
   "cell_type": "code",
   "execution_count": 82,
   "id": "downtown-editing",
   "metadata": {},
   "outputs": [
    {
     "data": {
      "text/plain": [
       "array([[ 0.82327783,  2.19287384,  0.68020506, -2.20026801],\n",
       "       [ 0.12992197, -0.25937488, -1.56289453, -1.81113711],\n",
       "       [ 0.20198436, -0.63664865,  1.0674642 , -0.72959023]])"
      ]
     },
     "execution_count": 82,
     "metadata": {},
     "output_type": "execute_result"
    }
   ],
   "source": [
    "arr2"
   ]
  },
  {
   "cell_type": "code",
   "execution_count": 83,
   "id": "human-hypothetical",
   "metadata": {},
   "outputs": [
    {
     "data": {
      "text/plain": [
       "array([[-0.11626272,  3.89441122,  0.98697238, -1.69654234],\n",
       "       [ 2.38868635, -0.36816395, -1.64204304, -2.37801933],\n",
       "       [ 1.36112271, -0.76452738,  1.00345514,  0.15061749]])"
      ]
     },
     "execution_count": 83,
     "metadata": {},
     "output_type": "execute_result"
    }
   ],
   "source": [
    "np.add(arr1,arr2)"
   ]
  },
  {
   "cell_type": "code",
   "execution_count": 85,
   "id": "passive-philip",
   "metadata": {},
   "outputs": [
    {
     "data": {
      "text/plain": [
       "array([[-1.76281838, -0.49133647, -0.37343774,  2.70399368],\n",
       "       [ 2.12884241,  0.1505858 ,  1.48374603,  1.24425489],\n",
       "       [ 0.95715399,  0.50876992, -1.13147327,  1.60979794]])"
      ]
     },
     "execution_count": 85,
     "metadata": {},
     "output_type": "execute_result"
    }
   ],
   "source": [
    "np.subtract(arr1,arr2)"
   ]
  },
  {
   "cell_type": "code",
   "execution_count": 86,
   "id": "military-husband",
   "metadata": {},
   "outputs": [
    {
     "data": {
      "text/plain": [
       "array([[-0.7735029 ,  3.7312568 ,  0.20866468, -1.10833148],\n",
       "       [ 0.29346312,  0.02821715,  0.12370076,  1.02670142],\n",
       "       [ 0.23412782,  0.08141382, -0.06832738, -0.64219095]])"
      ]
     },
     "execution_count": 86,
     "metadata": {},
     "output_type": "execute_result"
    }
   ],
   "source": [
    "np.multiply(arr1,arr2)"
   ]
  },
  {
   "cell_type": "code",
   "execution_count": 87,
   "id": "broadband-nutrition",
   "metadata": {},
   "outputs": [
    {
     "data": {
      "text/plain": [
       "array([[-1.1412193 ,  0.77593947,  0.45099241, -0.22893833],\n",
       "       [17.38554574,  0.41942795,  0.05064225,  0.31299796],\n",
       "       [ 5.738753  ,  0.20086232, -0.05996366, -1.20644122]])"
      ]
     },
     "execution_count": 87,
     "metadata": {},
     "output_type": "execute_result"
    }
   ],
   "source": [
    "np.divide(arr1,arr2)"
   ]
  },
  {
   "cell_type": "code",
   "execution_count": 88,
   "id": "aging-gossip",
   "metadata": {},
   "outputs": [
    {
     "name": "stderr",
     "output_type": "stream",
     "text": [
      "<ipython-input-88-5c0d058082be>:1: RuntimeWarning: invalid value encountered in power\n",
      "  np.power(arr1,arr2)\n"
     ]
    },
    {
     "data": {
      "text/plain": [
       "array([[       nan, 3.20779253, 0.44763594, 4.52119069],\n",
       "       [1.11166929,        nan,        nan,        nan],\n",
       "       [1.03027775,        nan,        nan, 1.09756466]])"
      ]
     },
     "execution_count": 88,
     "metadata": {},
     "output_type": "execute_result"
    }
   ],
   "source": [
    "np.power(arr1,arr2)"
   ]
  },
  {
   "cell_type": "code",
   "execution_count": 89,
   "id": "inner-imagination",
   "metadata": {},
   "outputs": [
    {
     "data": {
      "text/plain": [
       "array([[ 0.82327783,  2.19287384,  0.68020506,  0.50372567],\n",
       "       [ 2.25876438, -0.10878907, -0.0791485 , -0.56688222],\n",
       "       [ 1.15913835, -0.12787873,  1.0674642 ,  0.88020772]])"
      ]
     },
     "execution_count": 89,
     "metadata": {},
     "output_type": "execute_result"
    }
   ],
   "source": [
    "np.maximum(arr1,arr2)"
   ]
  },
  {
   "cell_type": "markdown",
   "id": "trained-study",
   "metadata": {},
   "source": [
    "Array-Oriented progreamming with Arrays"
   ]
  },
  {
   "cell_type": "code",
   "execution_count": null,
   "id": "interesting-partition",
   "metadata": {},
   "outputs": [],
   "source": []
  }
 ],
 "metadata": {
  "kernelspec": {
   "display_name": "Python 3",
   "language": "python",
   "name": "python3"
  },
  "language_info": {
   "codemirror_mode": {
    "name": "ipython",
    "version": 3
   },
   "file_extension": ".py",
   "mimetype": "text/x-python",
   "name": "python",
   "nbconvert_exporter": "python",
   "pygments_lexer": "ipython3",
   "version": "3.8.5"
  }
 },
 "nbformat": 4,
 "nbformat_minor": 5
}
